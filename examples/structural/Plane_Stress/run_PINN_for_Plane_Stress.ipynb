{
 "cells": [
  {
   "attachments": {},
   "cell_type": "markdown",
   "metadata": {},
   "source": [
    "# DEM_for_J2_plasticity\n",
    "## 1. 模型简介\n",
    "这是一个基于物理信息神经网络（PINN）的平面应力问题求解器 \n",
    "\n",
    "本代码实现了论文中《物理信息神经网络方法求解平面应力问题》算例二（带缺陷板的平面应力分析）PINN的求解过程。针对左下角含1/4圆孔的正方形板，在复杂边界条件和正弦分布荷载作用下，通过PINN方法无网格求解位移场和应力场，有效避免了传统有限元的剪切锁死问题。\n",
    "\n",
    "\n",
    "弹性模量 E 为5Pa，泊松比 μ 为 0.3。正方形边长为 1m，圆的圆心在（0，0）处，半径为 0.2m，在正方形板的右侧施加大小为 q=sin（y*π/2）的分布力。\n",
    "\n",
    "<figure style=\"text-align: center;\">\n",
    "  <img src=\"./fig/plane.png\" style=\"width:25%;\" alt=\"\" />\n",
    "  <figcaption><b>图 1.</b> 缺陷板结构图。</figcaption>\n",
    "</figure>\n",
    "\n",
    "### 边界条件\n",
    "\n",
    "1. **应力边界条件：**\n",
    "\n",
    "- 在右侧边界（x=1），沿 x 方向的正应力分量根据坐标 y 变化，数值为 q=sin（y*π/2）。\n",
    "- 在下边界（y=0）、左边界（x=0）以及顶部边界（y=1），切向应力均等于零。\n",
    "- 顶边界（y=1）处的法向应力也为零\n",
    "\n",
    "2. **弧线应力边界条件：**\n",
    "\n",
    "- 在边界上，轨线方向的应力分量满足平衡方程，即某一边界点上的两个正应力分量与切应力分量的乘积，与法向量分量相乘并相加后等于零。\n",
    "- 这里的法向向量分量分别是关于 x 轴和 y 轴的余弦值，保证沿边界方向的应力达到平衡。\n",
    "\n",
    "3. **位移边界条件：**\n",
    "\n",
    "- 在左侧边界（x=0），沿 x 方向的位移为零。\n",
    "- 在底部边界（y=0），沿 y 方向的位移为零。\n",
    "\n",
    "---"
   ]
  },
  {
   "cell_type": "markdown",
   "metadata": {},
   "source": [
    "## 2. 软件环境准备\n",
    "\n",
    "### 2.1 基于dtk适配软件\n",
    "<div class=\"alert alert-warning\"> WARNING：镜像中环境已配置，此步骤省略 </div>"
   ]
  },
  {
   "cell_type": "markdown",
   "metadata": {},
   "source": [
    "### 2.2 软件环境检查\n"
   ]
  },
  {
   "cell_type": "code",
   "execution_count": 1,
   "metadata": {},
   "outputs": [
    {
     "name": "stdout",
     "output_type": "stream",
     "text": [
      "\n",
      "============================ System Management Interface =============================\n",
      "======================================================================================\n",
      "HCU     Temp     AvgPwr     Perf     PwrCap     VRAM%      HCU%      Mode     \n",
      "0       48.0C    30.0W      auto     300.0W     0%         0%        N/A      \n",
      "1       49.0C    23.0W      auto     300.0W     0%         0%        N/A      \n",
      "2       50.0C    24.0W      auto     300.0W     0%         0%        N/A      \n",
      "3       50.0C    23.0W      auto     300.0W     0%         0%        N/A      \n",
      "======================================================================================\n",
      "=================================== End of SMI Log ===================================\n",
      "\n",
      "torch version: 2.4.1\n",
      "device = dtk\n",
      "onescience version: 0.1.0\n"
     ]
    }
   ],
   "source": [
    "# 检查torch版本\n",
    "import torch\n",
    "import os\n",
    "import onescience\n",
    "\n",
    "version = torch.__version__\n",
    "num = float(version[:3])\n",
    "# assert num == 1.10\n",
    "\n",
    "# 检查硬件环境\n",
    "device = \"cpu\"\n",
    "if os.system('rocm-smi 2>/dev/null || hy-smi 2>/dev/null')==0:\n",
    "    device = \"dtk\"\n",
    "\n",
    "elif os.system('nvidia-smi 2>/dev/null')==0: \n",
    "    device = \"cuda\"\n",
    "\n",
    "print(\"torch version:\", version)\n",
    "print(\"device =\", device)\n",
    "print(\"onescience version:\", onescience.__version__)"
   ]
  },
  {
   "cell_type": "markdown",
   "metadata": {},
   "source": [
    "### 2.2 软件依赖安装\n"
   ]
  },
  {
   "cell_type": "markdown",
   "metadata": {},
   "source": [
    "<div class=\"alert alert-warning\"> WARNING: 镜像中环境已配置，此步骤省略 </div>"
   ]
  },
  {
   "cell_type": "markdown",
   "metadata": {},
   "source": [
    "<div class=\"alert alert-note\" style=\"color: blue;\">\n",
    "Note: 存在部分文件更新，请卸载当前环境下的 onescience 包，并安装当前目录的 whl 包。\n",
    "    \n",
    "请在最顶层目录(包含setup.py文件的目录)，通过命令行，执行下述安装指令：\n",
    "</div>"
   ]
  },
  {
   "cell_type": "code",
   "execution_count": null,
   "metadata": {
    "scrolled": true
   },
   "outputs": [],
   "source": [
    "!pip install -e ."
   ]
  },
  {
   "cell_type": "markdown",
   "metadata": {},
   "source": [
    "## 3 训练"
   ]
  },
  {
   "cell_type": "markdown",
   "metadata": {},
   "source": [
    "使用如下命令可以开启训练"
   ]
  },
  {
   "cell_type": "code",
   "execution_count": null,
   "metadata": {},
   "outputs": [],
   "source": [
    "!python Train.py "
   ]
  },
  {
   "cell_type": "markdown",
   "metadata": {},
   "source": [
    "## 4 推理"
   ]
  },
  {
   "cell_type": "markdown",
   "metadata": {},
   "source": [
    "使用如下命令可以进行预测，并保存可视化结果到`result`文件夹中"
   ]
  },
  {
   "cell_type": "code",
   "execution_count": null,
   "metadata": {},
   "outputs": [],
   "source": [
    "!python Inference.py "
   ]
  }
 ],
 "metadata": {
  "kernelspec": {
   "display_name": "Python 3 (ipykernel)",
   "language": "python",
   "name": "python3"
  },
  "language_info": {
   "codemirror_mode": {
    "name": "ipython",
    "version": 3
   },
   "file_extension": ".py",
   "mimetype": "text/x-python",
   "name": "python",
   "nbconvert_exporter": "python",
   "pygments_lexer": "ipython3",
   "version": "3.10.16"
  }
 },
 "nbformat": 4,
 "nbformat_minor": 4
}
