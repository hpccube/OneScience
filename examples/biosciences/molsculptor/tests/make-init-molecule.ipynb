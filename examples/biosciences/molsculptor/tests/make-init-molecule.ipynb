{
 "cells": [
  {
   "cell_type": "code",
   "execution_count": 1,
   "metadata": {},
   "outputs": [],
   "source": [
    "import numpy as np\n",
    "import matplotlib.pyplot as plt\n",
    "import pickle as pkl\n",
    "import os\n",
    "import sys\n",
    "import jax.tree_util as jtu\n",
    "import subprocess"
   ]
  },
  {
   "cell_type": "code",
   "execution_count": 2,
   "metadata": {},
   "outputs": [],
   "source": [
    "sys.path.append(os.path.dirname(os.getcwd()))\n",
    "from ml_collections import ConfigDict\n",
    "from rdkit import Chem\n",
    "from onescience.flax_models.MolSculptor.train.scheduler import GaussianDiffusion\n",
    "from onescience.flax_models.MolSculptor.train.inference import smi2graph_features\n",
    "from onescience.flax_models.MolSculptor.train.rewards import smi2pdbqt, dsdp_reward"
   ]
  },
  {
   "cell_type": "code",
   "execution_count": 3,
   "metadata": {},
   "outputs": [
    {
     "name": "stdout",
     "output_type": "stream",
     "text": [
      "Canonical SMILES:  CCOC(=O)c1ccc(NC(=O)c2cccc(S(=O)(=O)N3CCCc4ccccc43)c2)s1\n"
     ]
    }
   ],
   "source": [
    "lead_smi = 'CCOC(=O)c1ccc(NC(=O)c2cccc(S(=O)(=O)N3CCCc4ccccc43)c2)s1'\n",
    "lead_smi = Chem.MolToSmiles(Chem.MolFromSmiles(lead_smi), canonical=True)\n",
    "print(\"Canonical SMILES: \", lead_smi)"
   ]
  },
  {
   "cell_type": "code",
   "execution_count": 10,
   "metadata": {},
   "outputs": [],
   "source": [
    "def dsdp_reward(smi: str, cached_file_path: str, dsdp_script_path: str):\n",
    "    smi_save_dir = os.path.join(cached_file_path, f'temp-ligand.pdbqt')\n",
    "    smi2pdbqt(smi, smi_save_dir)\n",
    "    out_dir = os.path.join(cached_file_path, f'temp-dock.pdbqt')\n",
    "    log_dir = os.path.join(cached_file_path, f'temp-log.log')\n",
    "    cmd = ['bash', dsdp_script_path, smi_save_dir, out_dir, log_dir]\n",
    "    cmd = ' '.join(cmd)\n",
    "    subprocess.run(cmd, check=True, shell=True)\n",
    "    with open(log_dir, 'r') as f:\n",
    "        lines = f.readlines()\n",
    "        ss = [float(s.split()[-1]) for s in lines]\n",
    "    return ss[0]"
   ]
  },
  {
   "cell_type": "code",
   "execution_count": null,
   "metadata": {},
   "outputs": [
    {
     "name": "stdout",
     "output_type": "stream",
     "text": [
      "/lustre/grp/gyqlab/liyh/stable_moledit/MolSculptor/tests/init-molecule/temp-ligand.pdbqt\n",
      "Total time 2.376494 s\n",
      "/lustre/grp/gyqlab/liyh/stable_moledit/MolSculptor/tests/init-molecule/temp-ligand.pdbqt\n",
      "Total time 2.331549 s\n"
     ]
    }
   ],
   "source": [
    "os.makedirs('./init-molecule', exist_ok=True)\n",
    "root_wd = os.path.dirname(os.getcwd())\n",
    "graphs = smi2graph_features(lead_smi)\n",
    "score = [\n",
    "    dsdp_reward(lead_smi, f'{root_wd}/tests/init-molecule', f'{root_wd}/cases/case_ar-gr/dsdp_ar.sh'),\n",
    "    dsdp_reward(lead_smi, f'{root_wd}/tests/init-molecule', f'{root_wd}/cases/case_ar-gr/dsdp_gr.sh'),\n",
    "]\n",
    "score = np.asarray(score, np.float32) * (-1)\n",
    "print(score)"
   ]
  },
  {
   "cell_type": "code",
   "execution_count": 13,
   "metadata": {},
   "outputs": [],
   "source": [
    "molecule = {\n",
    "        'scores': np.asarray(score, np.float32),\n",
    "        'smiles': np.asarray(lead_smi, object),\n",
    "        'graphs': graphs,\n",
    "    }"
   ]
  },
  {
   "cell_type": "code",
   "execution_count": 14,
   "metadata": {},
   "outputs": [],
   "source": [
    "with open(f'./init-molecule/init_search_molecule.pkl', 'wb') as f:\n",
    "    pkl.dump(molecule, f)"
   ]
  }
 ],
 "metadata": {
  "kernelspec": {
   "display_name": "molsculptor_env",
   "language": "python",
   "name": "python3"
  },
  "language_info": {
   "codemirror_mode": {
    "name": "ipython",
    "version": 3
   },
   "file_extension": ".py",
   "mimetype": "text/x-python",
   "name": "python",
   "nbconvert_exporter": "python",
   "pygments_lexer": "ipython3",
   "version": "3.12.2"
  }
 },
 "nbformat": 4,
 "nbformat_minor": 2
}
