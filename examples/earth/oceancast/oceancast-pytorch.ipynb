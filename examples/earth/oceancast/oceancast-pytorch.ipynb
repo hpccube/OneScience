{
 "cells": [
  {
   "cell_type": "markdown",
   "metadata": {},
   "source": [
    "# OceanCast\n",
    "## 1. 模型简介\n",
    "该项目实现海浪(海流)细时空分辨率预测，模型参照 [FourCastNet：使用自适应傅里叶神经算子的全球数据驱动高分辨率天气模型](https://arxiv.org/abs/2202.11214) 的代码构建。<br>\n",
    "\n",
    "**模型结构**<br>\n",
    "主要参考FourCastNet中基于傅里叶算子的AFNO网络结构\n",
    "\n",
    "**模型简介**<br>\n",
    "OceanCast 是一种全球数据驱动的海浪/海流/洋流预报模型，可提供1° 分辨率的精确超短期全球预测。\n",
    "OceanCast 可准确预测高分辨率、快速时间尺度变量，例如海浪高度、海浪周期、海浪方向(海表温、海表盐、海面高度或洋流)等。\n",
    "通过修改conf/oceancast.yaml中待预测的input/output_type，可切换海浪/海流/洋流预报模型"
   ]
  },
  {
   "cell_type": "markdown",
   "metadata": {},
   "source": [
    "## 2. 软件环境准备\n",
    "\n",
    "### 2.1 基于dtk适配软件\n",
    "<div class=\"alert alert-warning\"> WARNING：镜像中环境已配置，此步骤省略 </div>"
   ]
  },
  {
   "cell_type": "markdown",
   "metadata": {},
   "source": [
    "### 2.2 软件环境检查\n"
   ]
  },
  {
   "cell_type": "code",
   "execution_count": 4,
   "metadata": {},
   "outputs": [
    {
     "name": "stdout",
     "output_type": "stream",
     "text": [
      "\n",
      "============================ System Management Interface =============================\n",
      "======================================================================================\n",
      "DCU     Temp     AvgPwr     Perf     PwrCap     VRAM%      DCU%      Mode     \n",
      "0       50.0C    24.0W      auto     300.0W     0%         0%        N/A      \n",
      "1       49.0C    25.0W      auto     300.0W     0%         0%        N/A      \n",
      "2       50.0C    24.0W      auto     300.0W     0%         0%        N/A      \n",
      "3       50.0C    27.0W      auto     300.0W     0%         0%        N/A      \n",
      "======================================================================================\n",
      "=================================== End of SMI Log ===================================\n",
      "\n",
      "torch version: 2.3.0\n",
      "device = dtk\n",
      "onescience version: 0.1.0\n"
     ]
    }
   ],
   "source": [
    "# 检查torch版本\n",
    "import torch\n",
    "import os\n",
    "import onescience\n",
    "\n",
    "version = torch.__version__\n",
    "num = float(version[:3])\n",
    "# assert num == 1.10\n",
    "\n",
    "# 检查硬件环境\n",
    "device = \"cpu\"\n",
    "if os.system('rocm-smi 2>/dev/null || hy-smi 2>/dev/null')==0:\n",
    "    device = \"dtk\"\n",
    "\n",
    "elif os.system('nvidia-smi 2>/dev/null')==0: \n",
    "    device = \"cuda\"\n",
    "\n",
    "print(\"torch version:\", version)\n",
    "print(\"device =\", device)\n",
    "print(\"onescience version:\", onescience.__version__)"
   ]
  },
  {
   "cell_type": "markdown",
   "metadata": {},
   "source": [
    "### 2.2 软件依赖安装\n"
   ]
  },
  {
   "cell_type": "markdown",
   "metadata": {},
   "source": [
    "<div class=\"alert alert-warning\"> WARNING: 镜像中环境已配置，此步骤省略 </div>"
   ]
  },
  {
   "cell_type": "markdown",
   "metadata": {},
   "source": [
    "<div class=\"alert alert-note\" style=\"color: blue;\">\n",
    "Note: 存在部分文件更新，请卸载当前环境下的 onescience 包，并安装当前目录的 whl 包。\n",
    "    \n",
    "请在最顶层目录(包含setup.py文件的目录)，通过命令行，执行下述安装指令：\n",
    "</div>"
   ]
  },
  {
   "cell_type": "code",
   "execution_count": null,
   "metadata": {
    "scrolled": true
   },
   "outputs": [],
   "source": [
    "# !pip install -e .\n",
    "!pwd"
   ]
  },
  {
   "cell_type": "markdown",
   "metadata": {},
   "source": [
    "## 3. 素材准备\n",
    "### 3.1 数据集准备\n",
    "\n",
    "以海浪预报为例，数据集目录组织方式如下(海流预报中前3个分别对应Ocean_SST, Ocean_SSS, Ocean_SSH)：\n",
    "\n",
    "数据集存放于/public/SothisAI/sharingCenter/data/easyscience/Ocean # 该路径包含所有数据集\n",
    "\n",
    "风速数据首先需要按照3.2计算为正弦、余弦、强度，并存放在本目录下，其余的海浪(海流)数据则存放于原始目录中。\n",
    "\n",
    "训练-验证-测试数据集按照8：1：1组织数据\n",
    "\n",
    "共26年数据，分为20-3-3\n",
    "\n",
    "```\n",
    "oceancast\n",
    "│   README.md\n",
    "│\n",
    "└───conf\n",
    "│   │   oceancast.yaml(配置文件)\n",
    "│\n",
    "└───data(共26年数据，按照8: 1: 1分割，因此训练：验证：测试=20: 3: 3)\n",
    "└──────Wind_Sin(风向正弦值，根据原始U_V计算得到角度)\n",
    "│   │   1995.h5\n",
    "│   │   ...\n",
    "│   │   2020.h5\n",
    "└──────Wind_Cos(风向正弦值，根据原始U_V计算得到角度)\n",
    "│   │   1995.h5\n",
    "│   │   ...\n",
    "│   │   2020.h5\n",
    "└──────Wind_Strength(风速大小)\n",
    "│   │   1995.h5\n",
    "│   │   ...\n",
    "│   │   2020.h5\n",
    "│\n",
    "└───means_stds(各变量的均值和标准差，用于归一化)\n",
    "│   │   Ocean_SST_means.npy\n",
    "│   │   ...\n",
    "│   │   Wind_Strength_stds.npy\n",
    "│\n",
    "└───WaveMask.pt(海洋-陆地掩码)\n",
    "│\n",
    "└───data_preprocess.py(计算风速相关数据)\n",
    "│\n",
    "└─────────────────────\n",
    "\n",
    "均值和方差需要根据get_means_stds.py统一计算，目前已存放于means_stds，可跳过计算\n",
    "\n",
    "```"
   ]
  },
  {
   "cell_type": "markdown",
   "metadata": {},
   "source": [
    "### 3.2 新数据计算\n",
    "\n",
    "以海浪预报为例，需要按照data_preprocess.py计算风速的正、余弦值以及风速强度\n",
    "\n",
    "海流预报也需计算\n",
    "\n",
    "```"
   ]
  },
  {
   "cell_type": "code",
   "execution_count": null,
   "metadata": {},
   "outputs": [],
   "source": [
    "import os\n",
    "# 设置环境变量待修改\n",
    "!python3 data_preprocess.py "
   ]
  },
  {
   "cell_type": "markdown",
   "metadata": {},
   "source": [
    "## 4 训练\n"
   ]
  },
  {
   "cell_type": "markdown",
   "metadata": {},
   "source": [
    "### 4.1 单卡训练\n",
    "运行`python3 train_oceancast.py`进行训练\n",
    "\n",
    "主要参数介绍，具体参数可在conf/oceancast.yaml中修改：\n",
    "- name：模型名称，训练阶段名称为`Oceancast`\n",
    "- model_path：模型文件及loss输出保存路径，默认`checkpoint/weight`\n",
    "- maskpath: 陆地掩码，默认`./WaveMask.pt`\n",
    "- patience: 早停轮数，默认50\n",
    "- max_epochs：最大训练步数，因为有早停，因此默认设为10000\n",
    "- batch_size: 一次性训练样本数量，默认16，如果溢出可根据DCU显存调整"
   ]
  },
  {
   "cell_type": "code",
   "execution_count": null,
   "metadata": {},
   "outputs": [],
   "source": [
    "import os\n",
    "# 设置环境变量待修改\n",
    "!python3 train_oceancast.py "
   ]
  },
  {
   "cell_type": "markdown",
   "metadata": {},
   "source": [
    "### 4.2 多卡训练\n",
    "运行`torchrun --nproc_per_node=4 --nnodes=1 --rdzv_id=1000 --rdzv_backend=c10d --max_restarts=0 --master_addr=\"localhost\" --master_port=29500 train_oceancast.py`进行训练\n",
    "\n",
    "主要参数介绍，其他参数参见单卡介绍：\n",
    "- nproc_per_node=4：卡的数量，默认4卡\n",
    "- nnodes=1：节点数量，默认单节点4卡"
   ]
  },
  {
   "cell_type": "code",
   "execution_count": null,
   "metadata": {},
   "outputs": [],
   "source": [
    "import os\n",
    "import torch\n",
    "import sys\n",
    "\n",
    "nproc_per_node = torch.cuda.device_count()\n",
    "print(f'This machine has {nproc_per_node} DCU/GPU devices')\n",
    "\n",
    "if nproc_per_node > 1:\n",
    "# 设置环境变量待修改\n",
    "    !torchrun \\\n",
    "    --nproc_per_node=4 \\\n",
    "    --nnodes=1 \\\n",
    "    --rdzv_id=1000 \\\n",
    "    --rdzv_backend=c10d \\\n",
    "    --max_restarts=0 \\\n",
    "    --master_addr=\"localhost\" \\\n",
    "    --master_port=29500 \\\n",
    "    train_oceancast.py\n",
    "else:\n",
    "    print('Only one DCU/GPU, please use single-device to train.')"
   ]
  },
  {
   "cell_type": "markdown",
   "metadata": {},
   "source": [
    "### 4.3 Pipeline模式\n",
    "\n",
    "该模式将AFNO切分为模型并行模式(Pipeline parallel, pp), 用于提供dualpipe加速的benchmark\n",
    "\n",
    "在实际情况下, 几乎所有数据并行(Data Distributed Parallel, ddp)模式都比pp模式要快\n",
    "\n",
    "此处仅作为案例展示，当模型大到必须用pp模式时，dualpipe具备应用价值。"
   ]
  },
  {
   "cell_type": "code",
   "execution_count": null,
   "metadata": {},
   "outputs": [],
   "source": [
    "#!/bin/bash\n",
    "\n",
    "!export HIP_VISIBLE_DEVICES=0,1,2,3 \n",
    "!export MASTER_ADDR=\"localhost\"\n",
    "!export MASTER_PORT=\"29500\"\n",
    "!export WORLD_SIZE=4\n",
    "!export NCCL_DEBUG=ERROR\n",
    "\n",
    "!torchrun --nproc_per_node=4  train_oceancast_pipeline.py"
   ]
  },
  {
   "cell_type": "markdown",
   "metadata": {},
   "source": [
    "### 4.4 Dualpipe加速的Pipeline模式\n",
    "\n",
    "基于4.3构建的pp模式，使用deepseek提供的dualpipeV技术进行加速"
   ]
  },
  {
   "cell_type": "code",
   "execution_count": null,
   "metadata": {},
   "outputs": [],
   "source": [
    "#!/bin/bash\n",
    "\n",
    "!export HIP_VISIBLE_DEVICES=0,1,2,3 \n",
    "!export MASTER_ADDR=\"localhost\"\n",
    "!export MASTER_PORT=\"29500\"\n",
    "!export WORLD_SIZE=4\n",
    "!export NCCL_DEBUG=ERROR\n",
    "\n",
    "!torchrun --nproc_per_node=4  train_oceancast_dualpipe.py"
   ]
  },
  {
   "cell_type": "markdown",
   "metadata": {},
   "source": [
    "## 5. 许可证\n",
    "Oceancast 项目（包括代码和模型参数）在[Apache 2.0](https://github.com/bytedance/Protenix/blob/main/LICENSE)许可下提供，可免费用于学术研究和商业用途。\n"
   ]
  }
 ],
 "metadata": {
  "kernelspec": {
   "display_name": "Python 3 (ipykernel)",
   "language": "python",
   "name": "python3"
  },
  "language_info": {
   "codemirror_mode": {
    "name": "ipython",
    "version": 3
   },
   "file_extension": ".py",
   "mimetype": "text/x-python",
   "name": "python",
   "nbconvert_exporter": "python",
   "pygments_lexer": "ipython3",
   "version": "3.10.15"
  }
 },
 "nbformat": 4,
 "nbformat_minor": 4
}
