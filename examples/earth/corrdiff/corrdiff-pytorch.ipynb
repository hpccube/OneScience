{
 "cells": [
  {
   "cell_type": "markdown",
   "metadata": {},
   "source": [
    "# CorrDiff\n",
    "\n",
    "## 1. 模型简介\n",
    "CorrDiff是一种利用高分辨率天气数据和更粗略的ERA5再分析数据训练了一种经济高效的随机降尺度模型，采用 UNet 和扩散的两步法来解决多尺度挑战，在预测极端天气和准确捕捉强降雨和台风动态等多变量关系方面表现出色，为全球到公里级的机器学习天气预报带来了光明的未来。[CorrDiff paper](https://arxiv.org/abs/2309.15214)\n",
    "\n",
    "\n",
    "## 1.1 模型结构\n",
    "CorrDiff将生成过程分解为两步：首先使用25公里分辨率的天气数据，第一步使用UNet回归预测得到条件均值μ，第二步通过EDM扩散模型用以修正均值的偏差（即学习残差r的分布，r基本上是零均值并且相比于目标数据x的分布表现出较小的分布偏移，即相比于x的方差更小，因此可以在扩散过程中使用较小的噪声水平进行训练，得到的r用于修正均值μ的偏差），二者共同构成概率性的高分辨率的区域预报。\n",
    "\n",
    "<img src=../../../doc/corrdiff_illustration.png width=500 height=300 />\n",
    "\n"
   ]
  },
  {
   "cell_type": "markdown",
   "metadata": {},
   "source": [
    "## 2. 软件环境准备\n",
    "\n",
    "### 2.1 基于dtk适配软件\n",
    "<div class=\"alert alert-warning\"> WARNING：镜像中环境已配置，此步骤省略 </div>\n",
    "<p>1. 基础软件环境DTK：推荐环境 dtk=dtk-24.04.2  下载链接：<a href=\"https://cancon.hpccube.com:65024/1/main/DTK-24.04.2/Ubuntu22.04\" target=\"_blank\">https://cancon.hpccube.com:65024/1/main/DTK-24.04.2/Ubuntu22.04 </a> </p>\n",
    "<p>2. pytorch软件包下载：推荐环境 torch=2.1.0 py310 下载链接: <a href=\"https://download.sourcefind.cn:65024/4/main/pytorch/DAS1.2\" target=\"_blank\">https://download.sourcefind.cn:65024/4/main/pytorch/DAS1.2 </a> </p>\n",
    "<p>3. torchvision软件包下载：推荐环境 torchvision=0.16.0 py310 下载链接: <a href=\"https://download.sourcefind.cn:65024/4/main/vision/DAS1.2\" target=\"_blank\">https://download.sourcefind.cn:65024/4/main/vision/DAS1.2 </a> </p>\n",
    "\n",
    "### 2.2 软件环境检查"
   ]
  },
  {
   "cell_type": "code",
   "execution_count": null,
   "metadata": {},
   "outputs": [],
   "source": [
    "# 检查torch版本\n",
    "import torch\n",
    "import os\n",
    "import onescience\n",
    "\n",
    "version = torch.__version__\n",
    "num = float(version[:3])\n",
    "# assert num == 1.10\n",
    "\n",
    "# 检查硬件环境\n",
    "device = \"cpu\"\n",
    "if os.system('rocm-smi 2>/dev/null || hy-smi 2>/dev/null')==0:\n",
    "    device = \"dtk\"\n",
    "\n",
    "elif os.system('nvidia-smi 2>/dev/null')==0: \n",
    "    device = \"cuda\"\n",
    "\n",
    "print(\"torch version:\", version)\n",
    "print(\"onescience version:\", onescience.__version__)\n",
    "print(\"device =\", device)"
   ]
  },
  {
   "cell_type": "markdown",
   "metadata": {},
   "source": [
    "### 2.3 软件依赖安装\n"
   ]
  },
  {
   "cell_type": "markdown",
   "metadata": {},
   "source": [
    "<div class=\"alert alert-warning\"> WARNING: 镜像中环境已配置，此步骤省略 </div>"
   ]
  },
  {
   "cell_type": "markdown",
   "metadata": {},
   "source": [
    "<div class=\"alert alert-note\" style=\"color: blue;\">\n",
    "Note: 检查镜像环境下onescience版本号是否与当前目录onescience安装包版本一致，若不一致则需要卸载当前环境下的 onescience 包，并安装当前目录的 whl 包。安装指令参考：\n",
    "<pre><code>pip uninstall onescience&&pip install &lt;onescience安装包名称&gt;.whl</code></pre>\n",
    "</div>"
   ]
  },
  {
   "cell_type": "markdown",
   "metadata": {},
   "source": [
    "## 3. 素材准备\n",
    "### 3.1 数据集准备\n"
   ]
  },
  {
   "cell_type": "markdown",
   "metadata": {},
   "source": [
    "CorrDiff训练在官方提供的台湾数据集上进行演示，以 [ERA5 数据集](https://www.ecmwf.int/en/forecasts/dataset/ecmwf-reanalysis-v5) 为条件。可从 [https://catalog.ngc.nvidia.com/orgs/nvidia/teams/modulus/resources/modulus_datasets_cwa](https://catalog.ngc.nvidia.com/orgs/nvidia/teams/modulus/resources/modulus_datasets_cwa)下载</p>请确保当前项目中包含dataset目录且结构如下：\n",
    "```\n",
    " ├── XLAT (450, 450) float32\n",
    " ├── XLAT_U (450, 451) float32\n",
    " ├── XLAT_V (451, 450) float32\n",
    " ├── XLONG (450, 450) float32\n",
    " ├── XLONG_U (450, 451) float32\n",
    " ├── XLONG_V (451, 450) float32\n",
    " ├── XTIME () float32\n",
    " ├── cwb (35064, 4, 450, 450) float32\n",
    " ├── cwb_center (4,) float32\n",
    " ├── cwb_pressure (4,) float64\n",
    " ├── cwb_scale (4,) float32\n",
    " ├── cwb_valid (35064,) int8\n",
    " ├── cwb_variable (4,) <U26\n",
    " ├── era5 (35064, 20, 450, 450) float32\n",
    " ├── era5_center (20,) float32\n",
    " ├── era5_pressure (20,) float64\n",
    " ├── era5_scale (20,) float32\n",
    " ├── era5_valid (35064, 20) int8\n",
    " ├── era5_variable (20,) <U19\n",
    " └── time (35064,) int64\n",
    "```"
   ]
  },
  {
   "cell_type": "markdown",
   "metadata": {},
   "source": [
    "主要目录结构如下\n",
    "```\n",
    "corrdiff-torch\\\n",
    "|----conf\\\n",
    "|    |----dataset\\\n",
    "|    |----generation\\\n",
    "|    |----generation\\\n",
    "|    |----model\\\n",
    "|    |----references\\\n",
    "|    |----sampler\\\n",
    "|    |----training\\\n",
    "|    |----validation\\\n",
    "|    |----config_generate_mini.yaml\n",
    "|    |----config_generate.yaml\n",
    "|    |----config_training_mini_diffusion.yaml\n",
    "|    |----config_training_mini_regression.yaml\n",
    "|    |----config_training.yaml\n",
    "|----datasets\\\n",
    "|    |----__init__.py\n",
    "|    |----base.py\n",
    "|    |----cwb.py\n",
    "|    |----dataset.py\n",
    "|    |----hrrrmini.py\n",
    "|    |----img_utils.py\n",
    "|    |----norm.py\n",
    "|----onescience-0.1.0-py3-none-any.whl\n",
    "|----README.md\n",
    "|----corrdiff-pytorch.ipynb\n",
    "|----dataset_info.txt\n",
    "|----generate.py\n",
    "|----score_samples.py\n",
    "|----train.py\n",
    "```"
   ]
  },
  {
   "cell_type": "markdown",
   "metadata": {},
   "source": [
    "## 4 训练\n",
    "### 4.1 单卡训练\n",
    "模型训练配置在./conf/training文件夹，数据集、模型和训练参数配置分别加载如下：\n",
    "- dataset/cwb_train：数据集使用台湾数据集配置；\n",
    "- model/corrdiff_regression: 模型结构加载回归模型或者扩散模型；\n",
    "- training/corrdiff_regression：不同类型模型训练配置。"
   ]
  },
  {
   "cell_type": "code",
   "execution_count": null,
   "metadata": {},
   "outputs": [],
   "source": [
    "# 执行训练\n",
    "!python train.py"
   ]
  },
  {
   "cell_type": "markdown",
   "metadata": {},
   "source": [
    "### 4.2 单节点多卡训练"
   ]
  },
  {
   "cell_type": "code",
   "execution_count": null,
   "metadata": {},
   "outputs": [],
   "source": [
    "# 执行训练\n",
    "!torchrun --standalone --nnodes=1 --nproc_per_node=4 train.py"
   ]
  },
  {
   "cell_type": "markdown",
   "metadata": {},
   "source": [
    "## 5. 相关文献和引用\n",
    "- [Residual Diffusion Modeling for Km-scale Atmospheric Downscaling](https://arxiv.org/pdf/2309.15214.pdf)\n"
   ]
  }
 ],
 "metadata": {
  "language_info": {
   "name": "python"
  }
 },
 "nbformat": 4,
 "nbformat_minor": 2
}
