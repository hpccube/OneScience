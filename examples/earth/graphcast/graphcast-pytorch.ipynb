{
 "cells": [
  {
   "cell_type": "markdown",
   "id": "939ad4fa-f9d7-4d1f-9757-648ba15d7551",
   "metadata": {
    "tags": []
   },
   "source": [
    "# GraphCast\n",
    "\n",
    "## 1. 模型简介\n",
    "Graphcast是谷歌Deepmind提出的一种用于全球中期天气预报的的方法，同时支持包括预测热带气旋路径、大气河流和极端气温在内的应用。该模型将地球天气的两个最新状态(当前时间和六个小时前)作为输入，并预测六小时后的天气状态。一个单独的天气状态由一个0.25维度/经度网格(721x1440)表示，这相当于赤道上大约28x28公里的分辨率，其中每个网格点代表一组地面和大气变量。本项目是利用torch框架对GraphCast的重构版本，主要用于模型训练。\n",
    "\n",
    "\n",
    "**模型结构**\n",
    "\n",
    "Graphcast是一种基于机器学习的天气预报大模型，性能优于世界上最准确的机器学习天气预报系统。Deepmind以编码-处理-解码的方式使用图神经网络(Graph Neural Network，GNN)来创建一个自回归模型。\n",
    "Graphcast三阶段模拟过程如下：\n",
    "1）第一阶段：编码阶段基于单个GNN将输入网格上表示为节点属性的变量映射到多网格图表示上的学习节点。\n",
    "2）第二阶段：处理器阶段使用16个非共享GNN层来在多网格上执行学习信息传递，使得能够以很少的消息传递步骤进行有效的本地和远程信息传递。\n",
    "3）第三阶段：解码器将来自多网格表示的第二阶段最终学习到的特征映射回纬度-经度网格，与第一阶段类似使用单个GNN层，并将输出预测作为残差更新最新的输入状态。\n",
    "\n",
    "<img src=../../../doc/graphcast_architecture.png width=600 height=450 />\n",
    "\n"
   ]
  },
  {
   "cell_type": "markdown",
   "id": "aa7b7b67-9d3b-4926-b039-ba9840eefa4d",
   "metadata": {},
   "source": [
    "## 2. 软件环境准备\n",
    "\n",
    "### 2.1 基于dtk适配软件\n",
    "<div class=\"alert alert-warning\"> WARNING：镜像中环境已配置，此步骤省略 </div>\n",
    "<p>1. 基础软件环境DTK：推荐环境 dtk=dtk-24.04.2  下载链接：<a href=\"https://cancon.hpccube.com:65024/1/main/DTK-24.04.2/Ubuntu22.04\" target=\"_blank\">https://cancon.hpccube.com:65024/1/main/DTK-24.04.2/Ubuntu22.04 </a> </p>\n",
    "<p>2. pytorch软件包下载：推荐环境 torch=2.1.0 py310 下载链接: <a href=\"https://download.sourcefind.cn:65024/4/main/pytorch/DAS1.2\" target=\"_blank\">https://download.sourcefind.cn:65024/4/main/pytorch/DAS1.2 </a> </p>\n",
    "<p>3. torchvision软件包下载：推荐环境 torchvision=0.16.0 py310 下载链接: <a href=\"https://download.sourcefind.cn:65024/4/main/vision/DAS1.2\" target=\"_blank\">https://download.sourcefind.cn:65024/4/main/vision/DAS1.2 </a> </p>\n",
    "<p>4. torchaudio软件包下载：推荐环境 torchaudio=2.1.2 py310 下载链接: <a href=\"https://download.sourcefind.cn:65024/4/main/\n",
    "\n",
    "### 2.2 软件环境检查"
   ]
  },
  {
   "cell_type": "code",
   "execution_count": null,
   "id": "626a5829",
   "metadata": {},
   "outputs": [],
   "source": [
    "# 检查torch版本\n",
    "import torch\n",
    "import os\n",
    "import onescience\n",
    "\n",
    "version = torch.__version__\n",
    "num = float(version[:3])\n",
    "# assert num == 1.10\n",
    "\n",
    "# 检查硬件环境\n",
    "device = \"cpu\"\n",
    "if os.system('rocm-smi 2>/dev/null || hy-smi 2>/dev/null')==0:\n",
    "    device = \"dtk\"\n",
    "\n",
    "elif os.system('nvidia-smi 2>/dev/null')==0: \n",
    "    device = \"cuda\"\n",
    "\n",
    "print(\"torch version:\", version)\n",
    "print(\"onescience version:\", onescience.__version__)\n",
    "print(\"device =\", device)"
   ]
  },
  {
   "cell_type": "markdown",
   "id": "aa7b7b67-9d3b-4926-b039-ba9840eefacc",
   "metadata": {},
   "source": [
    "### 2.3 软件依赖安装\n"
   ]
  },
  {
   "cell_type": "markdown",
   "id": "7dde608b",
   "metadata": {},
   "source": [
    "<div class=\"alert alert-warning\"> WARNING: 镜像中环境已配置，此步骤省略 </div>"
   ]
  },
  {
   "cell_type": "markdown",
   "id": "7c85e73c",
   "metadata": {},
   "source": [
    "<div class=\"alert alert-note\" style=\"color: blue;\">\n",
    "Note: 检查镜像环境下onescience版本号是否与当前目录onescience安装包版本一致，若不一致则需要卸载当前环境下的 onescience 包，并安装当前目录的 whl 包。安装指令参考：\n",
    "<pre><code>pip uninstall onescience&&pip install &lt;onescience安装包名称&gt;.whl</code></pre>\n",
    "</div>"
   ]
  },
  {
   "cell_type": "markdown",
   "id": "64c534dd-ad8f-493d-a5e4-435676d4f162",
   "metadata": {},
   "source": [
    "## 3. 素材准备\n",
    "### 3.1 数据集准备\n"
   ]
  },
  {
   "cell_type": "markdown",
   "id": "4e74c4d0-80c8-4d15-8820-e4d1c3892c64",
   "metadata": {},
   "source": [
    "请确保当前项目中包含dataset目录且结构如下\n",
    "```\n",
    "dataset\\\n",
    "|----train\\\n",
    "|    |----1980.h5\n",
    "|    |----1981.h5\n",
    "|    |----1982.h5\n",
    "|    |----...\n",
    "|----test\\\n",
    "|    |----2018.h5\n",
    "|    |----2019.h5\n",
    "|----stats\\\n",
    "|    |----global_means.npy\n",
    "|    |----global_stds.npy\n",
    "|----static\\\n",
    "|    |----geopotential.nc\n",
    "|    |----land_sea_mask.nc\n",
    "|----time_diff_std\\\n",
    "|    |----time_diff_std_new.npy\n",
    "|    |----time_diff_mean_new.npy\n",
    "|----data.json\\\n",
    "```\n",
    "其中data.json中存储每个channel的名称，格式如下：\n",
    "\n",
    "```\n",
    "{\n",
    "    \"coords\": {\n",
    "        \"channel\": {\n",
    "            \"0\": \"t2m\",\n",
    "            \"1\": \"msl\",\n",
    "            \"2\": \"z50\",\n",
    "            \"3\": \"q100\"\n",
    "            ...\n",
    "        }\n",
    "    }\n",
    "}\n",
    "```"
   ]
  },
  {
   "cell_type": "markdown",
   "id": "fb6abf5a",
   "metadata": {},
   "source": [
    "主要目录结构如下\n",
    "```\n",
    "graphcast-torch\\\n",
    "|----conf\\\n",
    "|    |----config.yaml\n",
    "|----loss\\\n",
    "|    |----__init__.py\n",
    "|    |----util.py\n",
    "|----onescience-0.1.0-py3-none-any.whl\n",
    "|----README.md\n",
    "|----graphcast-pytorch.ipynb\n",
    "|----train_base.py\n",
    "|----train_graphcast.py\n",
    "|----train_utils.py\n",
    "|----validation_base.py\n",
    "```"
   ]
  },
  {
   "cell_type": "markdown",
   "id": "ef0faf15-d9ab-454f-9368-e026372752ad",
   "metadata": {},
   "source": [
    "## 4 训练\n",
    "### 4.1 单卡训练\n",
    "模型训练配置在./conf/config.yaml，主要参数介绍：\n",
    "- processor_type：处理器类型，graphcast使用\"MessagePassing\"；\n",
    "- hidden_dim: 层的维度size；\n",
    "- latlon_res：输入分辨率，0.25°为[721,1440]；\n",
    "- num_samples_per_year_train：每年的样本个数；\n",
    "- num_channels_climate：气象变量数量，包括地表变量和大气变量；\n",
    "- num_channels_static：静态变量个数；\n",
    "- use_cos_zenith：是否使用太阳天顶角；\n",
    "- amp：是否使用混合精度训练；\n",
    "- use_wandb：是否使用`wandb`在线记录训练过程，默认`False`；\n",
    "- save_freq：模型保存的频率；\n",
    "- ckpt_path：模型保存地址。\n"
   ]
  },
  {
   "cell_type": "code",
   "execution_count": null,
   "id": "a125e6a2",
   "metadata": {},
   "outputs": [],
   "source": [
    "# 执行训练\n",
    "!python train_graphcast.py"
   ]
  },
  {
   "cell_type": "markdown",
   "id": "b8475df4",
   "metadata": {},
   "source": [
    "### 4.1 单节点多卡训练"
   ]
  },
  {
   "cell_type": "code",
   "execution_count": null,
   "id": "d652c522",
   "metadata": {},
   "outputs": [],
   "source": [
    "# 执行训练\n",
    "!torchrun --standalone --nnodes=1 --nproc_per_node=4 train_graphcast.py"
   ]
  },
  {
   "cell_type": "markdown",
   "id": "cfe3acde",
   "metadata": {},
   "source": [
    "## 5. 相关文献和引用\n",
    "https://github.com/google-deepmind/graphcast\n"
   ]
  }
 ],
 "metadata": {
  "kernelspec": {
   "display_name": "Python 3 (ipykernel)",
   "language": "python",
   "name": "python3"
  },
  "language_info": {
   "codemirror_mode": {
    "name": "ipython",
    "version": 3
   },
   "file_extension": ".py",
   "mimetype": "text/x-python",
   "name": "python",
   "nbconvert_exporter": "python",
   "pygments_lexer": "ipython3",
   "version": "3.10.12"
  }
 },
 "nbformat": 4,
 "nbformat_minor": 5
}
