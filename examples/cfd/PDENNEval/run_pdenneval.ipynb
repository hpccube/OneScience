{
 "cells": [
  {
   "cell_type": "markdown",
   "metadata": {},
   "source": [
    "#### 1.模型介绍\n",
    "\n",
    "PDENNEval是一个偏微分方程求解集合。在这个notebook中，我们包含了多中求解PDE的求解方法。\n",
    "\n",
    "PDENNEval 对 8 种用于偏微分方程（PDE）的神经网络（NN）方法进行了全面和系统的评估，其中包括2 种基于函数学习的神经网络方法：[PINN](https://www.sciencedirect.com/science/article/abs/pii/S0021999118307125), [WAN](https://arxiv.org/abs/1907.08272)以及 6 种基于算子学习的神经网络方法： [U-Net](https://arxiv.org/abs/1505.04597), [MPNN](https://arxiv.org/abs/2202.03376), [FNO](https://arxiv.org/abs/2010.08895), [DeepONet](https://arxiv.org/abs/1910.03193), [PINO](https://arxiv.org/abs/2111.03794), [U-NO](https://arxiv.org/abs/2204.11127). 在这个代码库中，我们提供了所有评估方法的代码参考。"
   ]
  },
  {
   "cell_type": "markdown",
   "metadata": {},
   "source": [
    "#### 2.环境安装\n",
    "\n",
    "本项目环境基于Python 3.10，DTK 24.04，PyTorch 2.0, OneScience等依赖库。\n",
    "\n",
    "首先使用以下指令手动更新安装onescience。\n",
    "\n",
    "此外还需要安装其他一些依赖库。"
   ]
  },
  {
   "cell_type": "code",
   "execution_count": null,
   "metadata": {
    "vscode": {
     "languageId": "shellscript"
    }
   },
   "outputs": [],
   "source": [
    "#更新onescience\n",
    "!pip install onescience-0.1.2-py3-none-any.whl\n",
    "!pip install seaborn\n",
    "!pip install deepxde\n",
    "!pip install tensorboard"
   ]
  },
  {
   "cell_type": "markdown",
   "metadata": {},
   "source": [
    "#### 3.环境依赖检查\n",
    "环境检测包含pytorch版本和dcu环境检测。"
   ]
  },
  {
   "cell_type": "code",
   "execution_count": null,
   "metadata": {},
   "outputs": [],
   "source": [
    "import torch\n",
    "version = torch.__version__\n",
    "num = float(version[:3])\n",
    "assert num >= 2.0, \"Pytorch version must >= 2.0\"\n",
    "\n",
    "assert torch.cuda.is_available(), \"Pytorch need DCU\""
   ]
  },
  {
   "cell_type": "markdown",
   "metadata": {},
   "source": [
    "#### 4.素材准备\n",
    "本项目使用的数据来自两个来源： PDEBench和自生成的数据。\n",
    "\n",
    "我们目前准备了3种数据集，包括一维扩散吸收问题数据，二维达西流问题数据集和二维潜水流数据集，并上传到了超算互联网平台上，可以下载使用。\n",
    "\n",
    "在应用商城 https://www.scnet.cn/ui/mall/app 中搜索“PDEBench”数据集即可下载使用。"
   ]
  },
  {
   "cell_type": "markdown",
   "metadata": {},
   "source": [
    "#### 5.训练模型\n",
    "\n",
    "以下面三个模型为例：\n",
    "\n",
    "deeponet\n",
    "\n",
    "假设我们数据集解压后的路径为 /root/dataset/\n",
    "\n",
    "则我们需要将配置文件./DeepONet/configs/config_2D_Darcy_Flow.yaml中的dataset：saved_folder设置为“/root/dataset/”\n",
    "\n",
    "运行下一行命令即可训练模型"
   ]
  },
  {
   "cell_type": "code",
   "execution_count": null,
   "metadata": {
    "vscode": {
     "languageId": "shellscript"
    }
   },
   "outputs": [],
   "source": [
    "!python ./DeepONet/train.py ./DeepONet/config/config_2D_Darcy_Flow.yaml"
   ]
  },
  {
   "cell_type": "markdown",
   "metadata": {},
   "source": [
    "PINN\n",
    "\n",
    "如果使用PDEBench数据集运行PINN，假设我们数据集解压后的路径为 /root/dataset/\n",
    "\n",
    "则我们需要将配置文件./PINN/config/args/config_pinn_darcy.yaml中的root_path设置为“/root/dataset/”\n",
    "\n",
    "运行下一行命令即可训练模型"
   ]
  },
  {
   "cell_type": "code",
   "execution_count": null,
   "metadata": {
    "vscode": {
     "languageId": "shellscript"
    }
   },
   "outputs": [],
   "source": [
    "!python ./PINN/run.py ./PINN/config/config_pinn_darcy.yaml"
   ]
  },
  {
   "cell_type": "markdown",
   "metadata": {},
   "source": [
    "PINO\n",
    "\n",
    "假设我们数据集解压后的路径为 /root/dataset/\n",
    "\n",
    "则我们需要将配置文件./PINO/configs/4x/config_2D_Darcy_Flow.yaml中的dataset：saved_folder设置为“/root/dataset/”\n",
    "\n",
    "运行下一行命令即可训练模型"
   ]
  },
  {
   "cell_type": "code",
   "execution_count": null,
   "metadata": {
    "vscode": {
     "languageId": "shellscript"
    }
   },
   "outputs": [],
   "source": [
    "!python ./PINO/train.py ./PINO/config/4x/config_2D_Darcy_Flow.yaml"
   ]
  }
 ],
 "metadata": {
  "kernelspec": {
   "display_name": "Python 3 (ipykernel)",
   "language": "python",
   "name": "python3"
  },
  "language_info": {
   "codemirror_mode": {
    "name": "ipython",
    "version": 3
   },
   "file_extension": ".py",
   "mimetype": "text/x-python",
   "name": "python",
   "nbconvert_exporter": "python",
   "pygments_lexer": "ipython3",
   "version": "3.10.16"
  }
 },
 "nbformat": 4,
 "nbformat_minor": 4
}
