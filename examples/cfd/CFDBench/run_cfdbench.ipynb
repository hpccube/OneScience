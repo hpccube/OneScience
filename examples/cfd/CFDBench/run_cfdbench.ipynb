{
 "cells": [
  {
   "cell_type": "markdown",
   "id": "c43decb7-49be-460b-bb90-604a749b9058",
   "metadata": {},
   "source": [
    "# **CFDBench**\n",
    "\n",
    "#### 1.模型简介\n",
    "CFDBench 是一个用于评估在具有各种边界条件、物理特性和域几何形状的流体动力学中机器学习方法的大规模基准。它由计算流体动力学（CFD）中的四个经典问题组成，具有许多不同的操作参数，使其非常适合测试替代模型的推理时间泛化能力。\n",
    "这种泛化能力对于在将替代模型应用于新问题时避免昂贵的重新训练至关重要。\n",
    "\n",
    "<img src=\"./figs/flow-examples.png\" alt=\"模型架构图\" width=\"1000\" >\n",
    "    \n",
    "#### 2.环境安装\n",
    "本项目环境基于 **Python 3.10**，`DTK 24.04`，`PyTorch 2.0`，`OneScience`，`json`，`typed-argument-parser`等依赖库。\n",
    "\n",
    "在超算互联网平台上，我们提供了预先配置好的镜像，创建容器后即可获得已经设置好的运行环境，实现一键运行。\n",
    "\n",
    "首先使用以下指令手动更新安装onescience。\n",
    "\n",
    "此外还需要安装其他一些依赖库"
   ]
  },
  {
   "cell_type": "code",
   "execution_count": null,
   "id": "c9c95d68-1a1a-495f-91cc-b50e62c9648e",
   "metadata": {},
   "outputs": [],
   "source": [
    "#更新onescience\n",
    "!pip install onescience-0.1.2-py3-none-any.whl\n",
    "!pip install typed-argument-parser"
   ]
  },
  {
   "cell_type": "markdown",
   "id": "6cf35473-ec5c-4ea9-9334-a59a603578bf",
   "metadata": {},
   "source": [
    "#### 3.环境依赖检查\n",
    "环境检测包含pytorch版本和dcu环境检测。"
   ]
  },
  {
   "cell_type": "code",
   "execution_count": 6,
   "id": "a3ade994-efba-4cbd-985e-6fc54dc7cb11",
   "metadata": {},
   "outputs": [],
   "source": [
    "import torch\n",
    "version = torch.__version__\n",
    "num = float(version[:3])\n",
    "assert num >= 2.0, \"Pytorch version must >= 2.0\"\n",
    "\n",
    "assert torch.cuda.is_available(), \"Pytorch need DCU\""
   ]
  },
  {
   "cell_type": "markdown",
   "id": "6d386bea-ccc5-4ad2-9f4c-fb8c6f4ca56b",
   "metadata": {},
   "source": [
    "#### 4.素材准备\n",
    "\n",
    "数据集中包括的四个流动问题，对于每个问题，我们生成具有不同操作参数的流动，这是我们用来指三种条件的组合的术语：(1)边界BC，(2)流体物理性质(PROP)，和(3)场的几何形状(GEO)。每种运行参数对应一个子集。在每个子集中，相应的操作条件是变化的，而其他参数保持不变。\n",
    "数据使用npy文件存储，是NumPy 使用的标准二进制文件格式。每组数据下包含u.npy和v.npy以及一个json文件（用于描述这组数据对应的物理条件）\n",
    "\n",
    "在应用商城 https://www.scnet.cn/ui/mall/app 中搜索“DeepCFDdata”数据集即可下载使用。"
   ]
  },
  {
   "cell_type": "markdown",
   "id": "3ae527c0-f265-46a3-8019-5098435040b2",
   "metadata": {},
   "source": [
    "#### 5.训练模型\n",
    "\n",
    "将数据集解压后放入当前目录下的`data`文件夹中，就像这样\n",
    "\n",
    "```\n",
    "▼ data/\n",
    "    ▼ cavity/\n",
    "        ▼ bc/\n",
    "        ▼ geo/\n",
    "        ▼ prop/\n",
    "    ► tube/\n",
    "    ► dam/\n",
    "    ► cylinder/\n",
    "► tube/   \n",
    "args.py\n",
    "train_auto.py\n",
    "train.py\n",
    "README.md\n",
    "```\n",
    "运行`train.py`或`train_auto.py`分别训练非自回归或自回归模型。使用`--model`指定模型，它必须是以下之一：\n",
    "\n",
    "Model                          | Value for `--model`    | Script\n",
    ":----------------------------- | :--------------------- | :-------\n",
    "Non-autoregrssive FFN          | `ffn`                 | `train.py`\n",
    "Non-autoregressive DeepONet    | `deeponet`            | `train.py`\n",
    "Autoregressive Auto-FFN        | `auto_ffn`            | `train_auto.py`\n",
    "Autoregressive Auto-DeepONet   | `auto_deeponet`       | `train_auto.py`\n",
    "Autoregressive Auto-EDeepONet  | `auto_edeeponet`      | `train_auto.py`\n",
    "Autoregressive Auto-DeepONetCNN| `auto_deeponet_cnn`   | `train_auto.py`\n",
    "Autoregressive ResNet          | `resnet`              | `train_auto.py`\n",
    "Autoregressive U-Net           | `unet`                | `train_auto.py`\n",
    "Autoregressive FNO             | `fno`                 | `train_auto.py`\n",
    "\n",
    "运行`python train.py -h`或`python train_auto.py -h`\n",
    "\n",
    "例如，使用FNO模型模拟方腔流子集中的所有子集："
   ]
  },
  {
   "cell_type": "code",
   "execution_count": null,
   "id": "7bc2150d-2ec9-4efa-b032-6602cdce1c7b",
   "metadata": {},
   "outputs": [],
   "source": [
    "!python train_auto.py --model fno --data cavity_prop_bc_geo"
   ]
  },
  {
   "cell_type": "markdown",
   "id": "c683cbe1-6596-46e5-8b39-96c0dd7866c7",
   "metadata": {},
   "source": [
    "使用DeepONet模型模拟坝流中的 PROP + GEO 子集："
   ]
  },
  {
   "cell_type": "code",
   "execution_count": null,
   "id": "2f6b65cf-d778-457b-8d29-1ddfa22d045a",
   "metadata": {},
   "outputs": [],
   "source": [
    "!python train.py --model deeponet --data_name dam_prop_geo"
   ]
  },
  {
   "cell_type": "markdown",
   "id": "7c7488b2-878b-4c26-9068-2d701896a47a",
   "metadata": {},
   "source": [
    "####模型推理\n",
    "\n",
    "运行`train.py` 或 `train_auto.py`时使用`--mode test`参数，例如"
   ]
  },
  {
   "cell_type": "code",
   "execution_count": null,
   "id": "0280e7fd-9aaa-4d64-82c0-a4cc23d7a717",
   "metadata": {},
   "outputs": [],
   "source": [
    "!python train.py --model ffn --mode test --data_name dam_prop_geo"
   ]
  }
 ],
 "metadata": {
  "kernelspec": {
   "display_name": "Python 3 (ipykernel)",
   "language": "python",
   "name": "python3"
  },
  "language_info": {
   "codemirror_mode": {
    "name": "ipython",
    "version": 3
   },
   "file_extension": ".py",
   "mimetype": "text/x-python",
   "name": "python",
   "nbconvert_exporter": "python",
   "pygments_lexer": "ipython3",
   "version": "3.10.15"
  }
 },
 "nbformat": 4,
 "nbformat_minor": 5
}
