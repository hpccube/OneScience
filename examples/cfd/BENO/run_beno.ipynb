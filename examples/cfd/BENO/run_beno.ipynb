{
 "cells": [
  {
   "cell_type": "markdown",
   "id": "e375d5d8-bc0a-4f13-9d03-54d12957cd95",
   "metadata": {},
   "source": [
    "# **CFDBench**\n",
    "\n",
    "#### 1. 模型简介\n",
    "边界嵌入神经算子（BENO）是一个新型的算子网络，该算子将**复杂边界形状**和**非均匀边界值**合并到椭圆偏微分方程的求解中，如下所示：\n",
    "\n",
    "<img src=\"figs/motivation.png\" alt=\"flow-examples\" width=\"600\" >\n",
    "\n",
    "BENO模型架构如下所示：\n",
    "\n",
    "<img src=\"figs/arch.png\" alt=\"flow-examples\" width=\"600\" >\n",
    "    \n",
    "#### 2.环境安装\n",
    "本项目环境基于 `Python 3.10`，`DTK 24.04`，`PyTorch 2.0`，`OneScience`，`torch_geometric`，`loguru`等依赖库。\n",
    "\n",
    "在超算互联网平台上，我们提供了预先配置好的镜像，创建容器后即可获得已经设置好的运行环境，实现一键运行。\n",
    "\n",
    "首先使用以下指令手动更新安装onescience。\n",
    "\n",
    "此外还需要安装其他一些依赖库\n"
   ]
  },
  {
   "cell_type": "code",
   "execution_count": null,
   "id": "9403a69c-c8e7-4125-a3ab-34794ae2c7b5",
   "metadata": {},
   "outputs": [],
   "source": [
    "#更新onescience\n",
    "!pip install onescience-0.1.2-py3-none-any.whl\n",
    "!pip install torch_geometric\n",
    "!pip install loguru"
   ]
  },
  {
   "cell_type": "markdown",
   "id": "b2dfa92d-f5f3-4ae6-b5e0-3c643b110c33",
   "metadata": {},
   "source": [
    "#### 3.环境依赖检查\n",
    "环境检测包含pytorch版本和dcu环境检测。"
   ]
  },
  {
   "cell_type": "code",
   "execution_count": 3,
   "id": "9020fd0c-b82f-4741-81b3-5931086de102",
   "metadata": {},
   "outputs": [],
   "source": [
    "import torch\n",
    "version = torch.__version__\n",
    "num = float(version[:3])\n",
    "assert num >= 2.0, \"Pytorch version must >= 2.0\"\n",
    "\n",
    "assert torch.cuda.is_available(), \"Pytorch need DCU\""
   ]
  },
  {
   "cell_type": "markdown",
   "id": "e93bd54f-81a3-4be1-b75f-49077aec7ca0",
   "metadata": {},
   "source": [
    "#### 4.数据准备\n",
    "\n",
    "本数据集是一个椭圆偏微分方程的求解数据集，包含两种边界条件，分别为Dirichlet(狄利克雷)和Neumann(纽曼)边界条件。\n",
    "\n",
    "每种构建了五个具有不均匀边界值的不同数据集，包括 4/3/2/1 角正方形和无角正方形。 每个数据集由 1000 个具有随机初始化边界形状和值的样本组成， 每个样本覆盖一个 32×32 节点和 128 个边界节点的网格。\n",
    "\n",
    "BC_Nxx_xc_all.npy/RHS_Nxx_xc_all.npy/SOL_Nxx_xc_all.npy 表示特定分辨率和形状的边界信息/强迫项/解。\n",
    "\n",
    "使用方法：数据使用npy文件存储，是 NumPy 使用的标准二进制文件格式。\n",
    "\n",
    "在应用商城 https://www.scnet.cn/ui/mall/app 中搜索“BENOdata”数据集即可下载使用。"
   ]
  },
  {
   "cell_type": "markdown",
   "id": "f6e318d8-b192-42f0-b5fa-34b5ea355f0b",
   "metadata": {},
   "source": [
    "#### 5.训练\n",
    "\n",
    "使用以下命令训练BENO，具体使用哪个数据集可以在代码中更改\n",
    "\n",
    "运行`python train.py -h`可以查看各参数作用"
   ]
  },
  {
   "cell_type": "code",
   "execution_count": null,
   "id": "208ca7e7-8b9b-4f0c-9ea9-fc46702959cf",
   "metadata": {},
   "outputs": [],
   "source": [
    "!python train.py --dataset_type=32x32 --epochs 1000"
   ]
  },
  {
   "cell_type": "markdown",
   "id": "425f0321-c23b-4de6-b269-cf3c28db9a7f",
   "metadata": {},
   "source": [
    "#### 6.预测\n",
    "\n",
    "要分析结果，请使用以下命令："
   ]
  },
  {
   "cell_type": "code",
   "execution_count": null,
   "id": "272f186a-5e25-4734-8162-43e5f003f5a3",
   "metadata": {},
   "outputs": [],
   "source": [
    "!python analysis.py "
   ]
  }
 ],
 "metadata": {
  "kernelspec": {
   "display_name": "Python 3 (ipykernel)",
   "language": "python",
   "name": "python3"
  },
  "language_info": {
   "codemirror_mode": {
    "name": "ipython",
    "version": 3
   },
   "file_extension": ".py",
   "mimetype": "text/x-python",
   "name": "python",
   "nbconvert_exporter": "python",
   "pygments_lexer": "ipython3",
   "version": "3.10.15"
  }
 },
 "nbformat": 4,
 "nbformat_minor": 5
}
