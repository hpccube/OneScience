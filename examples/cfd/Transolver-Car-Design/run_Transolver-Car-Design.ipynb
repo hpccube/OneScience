{
 "cells": [
  {
   "attachments": {},
   "cell_type": "markdown",
   "metadata": {},
   "source": [
    "# Transolver\n",
    "## 1. 模型简介\n",
    "这是一个用于汽车设计任务的模型，它用于预测驾驶汽车周围的风速和表面压力，以此来计算风阻系数。模型参照[Transolver](https://arxiv.org/abs/2402.02366) 中的开源模型代码进行构建。\n",
    "\n",
    "**模型结构**<br>\n",
    "主要基于Transformer架构,用Physics-Attention代替了标准的Attention。每个头将输入域编码为一系列物理感知令牌，然后通过令牌之间的注意力来捕获复杂几何形状下的物理相关性。\n"
   ]
  },
  {
   "cell_type": "markdown",
   "metadata": {},
   "source": [
    "## 2. 软件环境准备\n",
    "\n",
    "### 2.1 基于dtk适配软件\n",
    "<div class=\"alert alert-warning\"> WARNING：镜像中环境已配置，此步骤省略 </div>"
   ]
  },
  {
   "cell_type": "markdown",
   "metadata": {},
   "source": [
    "### 2.2 软件环境检查\n"
   ]
  },
  {
   "cell_type": "code",
   "execution_count": 1,
   "metadata": {},
   "outputs": [
    {
     "name": "stdout",
     "output_type": "stream",
     "text": [
      "\n",
      "============================ System Management Interface =============================\n",
      "======================================================================================\n",
      "HCU     Temp     AvgPwr     Perf     PwrCap     VRAM%      HCU%      Mode     \n",
      "0       48.0C    30.0W      auto     300.0W     0%         0%        N/A      \n",
      "1       49.0C    23.0W      auto     300.0W     0%         0%        N/A      \n",
      "2       50.0C    24.0W      auto     300.0W     0%         0%        N/A      \n",
      "3       50.0C    23.0W      auto     300.0W     0%         0%        N/A      \n",
      "======================================================================================\n",
      "=================================== End of SMI Log ===================================\n",
      "\n",
      "torch version: 2.4.1\n",
      "device = dtk\n",
      "onescience version: 0.1.0\n"
     ]
    }
   ],
   "source": [
    "# 检查torch版本\n",
    "import torch\n",
    "import os\n",
    "import onescience\n",
    "\n",
    "version = torch.__version__\n",
    "num = float(version[:3])\n",
    "# assert num == 1.10\n",
    "\n",
    "# 检查硬件环境\n",
    "device = \"cpu\"\n",
    "if os.system('rocm-smi 2>/dev/null || hy-smi 2>/dev/null')==0:\n",
    "    device = \"dtk\"\n",
    "\n",
    "elif os.system('nvidia-smi 2>/dev/null')==0: \n",
    "    device = \"cuda\"\n",
    "\n",
    "print(\"torch version:\", version)\n",
    "print(\"device =\", device)\n",
    "print(\"onescience version:\", onescience.__version__)"
   ]
  },
  {
   "cell_type": "markdown",
   "metadata": {},
   "source": [
    "### 2.2 软件依赖安装\n"
   ]
  },
  {
   "cell_type": "markdown",
   "metadata": {},
   "source": [
    "<div class=\"alert alert-warning\"> WARNING: 镜像中环境已配置，此步骤省略 </div>"
   ]
  },
  {
   "cell_type": "markdown",
   "metadata": {},
   "source": [
    "<div class=\"alert alert-note\" style=\"color: blue;\">\n",
    "Note: 存在部分文件更新，请卸载当前环境下的 onescience 包，并安装当前目录的 whl 包。\n",
    "    \n",
    "请在最顶层目录(包含setup.py文件的目录)，通过命令行，执行下述安装指令：\n",
    "</div>"
   ]
  },
  {
   "cell_type": "code",
   "execution_count": null,
   "metadata": {
    "scrolled": true
   },
   "outputs": [],
   "source": [
    "!pip install -e ."
   ]
  },
  {
   "cell_type": "markdown",
   "metadata": {},
   "source": [
    "## 3. 素材准备\n",
    "### 3.1 数据集准备\n",
    "\n",
    "原始数据可以此处[[Shape-Net Car]](http://www.nobuyuki-umetani.com/publication/mlcfd_data.zip)，由[Nobuyuki Umetani](https://dl.acm.org/doi/abs/10.1145/3197517.3201325)提供\n",
    "\n",
    "\n",
    "下载的数据解压后的目录如下所示，可以通过参数指定其中一个param文件夹下的所有数据用作验证或预测。本项目中只用到了vtk格式的数据，从其中提取网格、压力和速度信息存入preprocessed_data文件夹中用作后续训练或者推理。\n",
    "\n",
    "```\n",
    "mlcfd_data\n",
    "│\n",
    "├── graph_raw_data # 原始图表数据，用于展示数据集中的数据排布形式\n",
    "│\n",
    "├── linear_regression_code #线性回归相关的代码文件，用于基准模型或辅助分析\n",
    "│\n",
    "├── preprocessed_data #对原始数据经过预处理得到的数据集，供模型训练使用\n",
    "│\n",
    "├── side_by_side_comparisons  #对应param7中的数据模型结果与实际结果的对比\n",
    "│\n",
    "└── training_data #原始的训练数据\n",
    "    └── param0  \n",
    "        └── 1a0bc9ab92c915167ae33d942430658c\n",
    "            ├── cd.txt  # 风阻系数 \n",
    "            ├── hexvelo_smpl.vtk  # VTK格式的六面体网格速度采样数据，用于三维流场可视化或分析\n",
    "            ├── param1.txt  # 参数1的文本文件，存储模仿真过程中的辅助参数\n",
    "            ├── param2.txt  # 参数2的文本文件，存储模仿真过程中的辅助参数\n",
    "            ├── press.npy  # 压力场数据的numpy数组文件，存储仿真得到的压力值\n",
    "            ├── quadpress_smpl.vtk # VTK格式四面体网格压力采样数据，用于网格分析与可视化\n",
    "            └── velo.npy # 速度场数据的numpy数组文件，存储流场速度信息           \n",
    "        ├── 1a56d596c77ad5936fa87a658faf1d26\n",
    "        ├── 1ab80bc91a45b7d0a31091d2234b9f68\n",
    "        └── ...\n",
    "   └── param1\n",
    "   └── param2\n",
    "   └── param3\n",
    "   └── param4\n",
    "   └── param5\n",
    "   └── param6\n",
    "   └── param7\n",
    "\n",
    "```"
   ]
  },
  {
   "cell_type": "markdown",
   "metadata": {},
   "source": [
    "## 4 训练\n"
   ]
  },
  {
   "cell_type": "markdown",
   "metadata": {},
   "source": [
    "### 4.1 单卡训练\n",
    "运行`python main.py`进行训练\n",
    "\n",
    "主要参数介绍，可以修改参数更改训练模型的信息：\n",
    "- data_dir：训练数据所在目录路径，包含所有原始CFD数据文件。默认`./dataset/mlcfd_data/training_data`\n",
    "- preprocessed_save_dir：预处理数据保存目录，用于存储处理后的训练/验证数据。默认./dataset/mlcfd_data/preprocessed_data\n",
    "- model_save_dir：训练后的模型保存目录。默认`./metrics`\n",
    "- fold_id：选择哪个param子文件夹作为测试/验证集。默认`0`\n",
    "- gpu：指定使用的GPU编号，默认为0，若无GPU则使用CPU。默认`0`\n",
    "- val_iter：验证时每隔多少个训练迭代执行一次模型验证。默认`10`\n",
    "- cfd_config_dir：CFD仿真参数配置文件路径。默认`cfd/cfd_params.yaml`\n",
    "- cfd_model：选择的CFD模型名称。默认`Transolver`\n",
    "- cfd_mesh：是否使用CFD网格信息，启用后会使用网格相关特征。默认`False`\n",
    "- r：影响图神经网络邻域范围的半径参数。默认`0.2`\n",
    "- weight：压力项损失的权重比例。默认`0.5`\n",
    "- lr：模型训练时初始的学习率。默认`0.001`\n",
    "- batch_size：训练或验证时的批大小。默认`1`\n",
    "- nb_epochs：总训练轮数。默认`200`\n",
    "- preprocessed：是否使用预处理数据，1为使用，0为不使用。默认`1`"
   ]
  },
  {
   "cell_type": "code",
   "execution_count": null,
   "metadata": {},
   "outputs": [],
   "source": [
    "!python main.py --cfd_model=Transolver --data_dir=./dataset/mlcfd_data/training_data --preprocessed_save_dir=./dataset/mlcfd_data/preprocessed_data --gpu=0 "
   ]
  },
  {
   "cell_type": "markdown",
   "metadata": {},
   "source": [
    "### 4.2 多卡训练\n",
    "运行`mpirun -np <num_GPUs> --allow-run-as-root python main.py`进行训练\n",
    "\n",
    "主要参数介绍，其他参数参见单卡介绍：\n",
    "- num_GPUs：卡的数量"
   ]
  },
  {
   "cell_type": "code",
   "execution_count": null,
   "metadata": {},
   "outputs": [],
   "source": [
    "!mpirun -np 4 --allow-run-as-root python main.py"
   ]
  },
  {
   "cell_type": "markdown",
   "metadata": {},
   "source": [
    "### 4.3 跨节点多卡训练\n",
    "\n",
    "torchrun启动多节点多卡训练：`torchrun --standalone --nnodes=<num_nodes> --nproc_per_node=<num_GPUs> main.py`\n",
    "主要参数介绍，其他详细可参考torchrun参数：\n",
    "- num_nodes： 节点数量\n",
    "- num_GPUs：卡的数量"
   ]
  },
  {
   "cell_type": "code",
   "execution_count": null,
   "metadata": {},
   "outputs": [],
   "source": [
    "!torchrun --standalone --nnodes=1 --nproc_per_node=4 main.py"
   ]
  },
  {
   "cell_type": "markdown",
   "metadata": {},
   "source": [
    "## 5 推理"
   ]
  },
  {
   "cell_type": "markdown",
   "metadata": {},
   "source": [
    "### 5.1 推理\n",
    "运行`python main_evaluation.py`进行推理\n",
    "\n",
    "主要参数介绍，其余均与训练时的参数一致，可以通过`python main_evaluation.py -h`查看：\n",
    "- result_dir：推理结果保存的根目录，包括npy、vtk、vis等子目录。默认`./results`\n",
    "- save_vtk：是否保存推理预测结果为VTK文件，便于后续可视化。。默认`False`\n",
    "- visualize：是否基于VTK文件生成可视化图片，需配合`--save_vtk`使用。。默认`False`"
   ]
  },
  {
   "cell_type": "code",
   "execution_count": null,
   "metadata": {},
   "outputs": [],
   "source": [
    "!python main_evaluation.py --result_dir=./results"
   ]
  }
 ],
 "metadata": {
  "kernelspec": {
   "display_name": "Python 3 (ipykernel)",
   "language": "python",
   "name": "python3"
  },
  "language_info": {
   "codemirror_mode": {
    "name": "ipython",
    "version": 3
   },
   "file_extension": ".py",
   "mimetype": "text/x-python",
   "name": "python",
   "nbconvert_exporter": "python",
   "pygments_lexer": "ipython3",
   "version": "3.10.16"
  }
 },
 "nbformat": 4,
 "nbformat_minor": 4
}
