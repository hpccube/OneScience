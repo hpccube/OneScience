{
 "cells": [
  {
   "attachments": {},
   "cell_type": "markdown",
   "metadata": {},
   "source": [
    "# Transolver\n",
    "## 1. 模型简介\n",
    "这是一个用于翼型设计任务的模型，它用于在不同雷诺数和攻角条件下，估计二维翼型周围及表面的物理量。模型参照[Transolver](https://arxiv.org/abs/2402.02366) 中的开源模型代码进行构建。\n",
    "\n",
    "**模型结构**<br>\n",
    "主要基于Transformer架构,用Physics-Attention代替了标准的Attention。每个头将输入域编码为一系列物理感知令牌，然后通过令牌之间的注意力来捕获复杂几何形状下的物理相关性。\n"
   ]
  },
  {
   "cell_type": "markdown",
   "metadata": {},
   "source": [
    "## 2. 软件环境准备\n",
    "\n",
    "### 2.1 基于dtk适配软件\n",
    "<div class=\"alert alert-warning\"> WARNING：镜像中环境已配置，此步骤省略 </div>"
   ]
  },
  {
   "cell_type": "markdown",
   "metadata": {},
   "source": [
    "### 2.2 软件环境检查\n"
   ]
  },
  {
   "cell_type": "code",
   "execution_count": 1,
   "metadata": {},
   "outputs": [
    {
     "name": "stdout",
     "output_type": "stream",
     "text": [
      "\n",
      "============================ System Management Interface =============================\n",
      "======================================================================================\n",
      "HCU     Temp     AvgPwr     Perf     PwrCap     VRAM%      HCU%      Mode     \n",
      "0       48.0C    30.0W      auto     300.0W     0%         0%        N/A      \n",
      "1       49.0C    23.0W      auto     300.0W     0%         0%        N/A      \n",
      "2       50.0C    24.0W      auto     300.0W     0%         0%        N/A      \n",
      "3       50.0C    23.0W      auto     300.0W     0%         0%        N/A      \n",
      "======================================================================================\n",
      "=================================== End of SMI Log ===================================\n",
      "\n",
      "torch version: 2.4.1\n",
      "device = dtk\n",
      "onescience version: 0.1.0\n"
     ]
    }
   ],
   "source": [
    "# 检查torch版本\n",
    "import torch\n",
    "import os\n",
    "import onescience\n",
    "\n",
    "version = torch.__version__\n",
    "num = float(version[:3])\n",
    "# assert num == 1.10\n",
    "\n",
    "# 检查硬件环境\n",
    "device = \"cpu\"\n",
    "if os.system('rocm-smi 2>/dev/null || hy-smi 2>/dev/null')==0:\n",
    "    device = \"dtk\"\n",
    "\n",
    "elif os.system('nvidia-smi 2>/dev/null')==0: \n",
    "    device = \"cuda\"\n",
    "\n",
    "print(\"torch version:\", version)\n",
    "print(\"device =\", device)\n",
    "print(\"onescience version:\", onescience.__version__)"
   ]
  },
  {
   "cell_type": "markdown",
   "metadata": {},
   "source": [
    "### 2.2 软件依赖安装\n"
   ]
  },
  {
   "cell_type": "markdown",
   "metadata": {},
   "source": [
    "<div class=\"alert alert-warning\"> WARNING: 镜像中环境已配置，此步骤省略 </div>"
   ]
  },
  {
   "cell_type": "markdown",
   "metadata": {},
   "source": [
    "<div class=\"alert alert-note\" style=\"color: blue;\">\n",
    "Note: 存在部分文件更新，请卸载当前环境下的 onescience 包，并安装当前目录的 whl 包。\n",
    "    \n",
    "请在最顶层目录(包含setup.py文件的目录)，通过命令行，执行下述安装指令：\n",
    "</div>"
   ]
  },
  {
   "cell_type": "code",
   "execution_count": null,
   "metadata": {
    "scrolled": true
   },
   "outputs": [],
   "source": [
    "!pip install -e ."
   ]
  },
  {
   "cell_type": "markdown",
   "metadata": {},
   "source": [
    "## 3. 素材准备\n",
    "### 3.1 数据集准备\n",
    "\n",
    "实验数据由[AlfRANS](https://github.com/Extrality/AirfRANS)提供。您可以通过此[链接](https://data.isir.upmc.fr/extrality/NeurIPS_2022/Dataset.zip)直接下载（9.3GB），可以通过此通过此[链接](https://airfrans.readthedocs.io/en/latest/notes/introduction.html)查看数据集的一些描述。\n",
    "\n",
    "\n",
    "# 数据集结构\n",
    "```\n",
    "Dataset/\n",
    "│\n",
    "├── .ipynb_checkpoints/\n",
    "│   # Jupyter Notebook 检查点文件夹\n",
    "│\n",
    "├── airFoil2D_SST_<params>/\n",
    "│   ├── airFoil2D_SST_<params>_aerofoil.vtp\n",
    "│   │   # 机翼表面网格数据（VTK多边形格式）\n",
    "│   ├── airFoil2D_SST_<params>_freestream.vtp\n",
    "│   │   # 流场远场自由流边界的网格数据\n",
    "│   └── airFoil2D_SST_<params>_internal.vtu\n",
    "│       # CFD内部计算网格数据，包含速度、压力等物理量\n",
    "├── airFoil2D_SST_43.597_5.932_3.551_3.1_1.0_18.252\n",
    "├── ...\n",
    "```\n",
    "# 说明\n",
    "\n",
    "- `<params>` 表示仿真参数编号，包含入口速度、攻角等信息。\n",
    "- 网格文件用于生成训练数据，通过采样生成点云数据，包括物理场的输入特征和目标值。\n",
    "- 训练代码会加载这些网格文件，进行采样和预处理，形成PyTorch Geometric支持的数据格式。\n",
    "\n",
    "模拟名称包含了所有用于生成该模拟的边界条件信息。例如，在 `'airFoil2D_SST_43.597_5.932_3.551_3.1_1.0_18.252'` 中，我们可以读出入口速度大小为 43.597m/s，攻角为5.932°。最后几个数字是NACA翼型的参数，如果有3个参数，表示使用的是4位数系列翼型；如果有4个参数，则说明该翼型来自5位数系列（这是因为最后两位表示翼型厚度，只定义了一个参数）。这里处理的是5位数系列翼型，参数为 \\((3.551, 3.1, 1.0, 18.252)\\)（它们是实数，不是整数）。 "
   ]
  },
  {
   "cell_type": "markdown",
   "metadata": {},
   "source": [
    "## 4 训练"
   ]
  },
  {
   "cell_type": "markdown",
   "metadata": {},
   "source": [
    "### 4.1 单卡训练\n",
    "运行`python main.py`进行训练\n",
    "\n",
    "主要参数介绍，可以修改参数更改训练模型的信息：\n",
    "- data_path：数据集路径，包含所有原始数据文件。默认`./dataset/Dataset`\n",
    "- save_path：模型及相关指标保存路径。默认`./metrics`\n",
    "- result_path：预测结果保存路径。默认`./results`\n",
    "- model：选择训练的模型，可选项包括 Transolver, MLP, GraphSAGE, PointNet, GUNet。默认`Transolver`\n",
    "- n, --nmodel：训练模型的数量，用于标准差估计。默认值为`1`\n",
    "- w, --weight：表面损失项前的权重。默认值为`1`\n",
    "- t, --task：训练任务类型，可选 \"full\"、\"scarce\"、\"reynolds\"、\"aoa\"。默认`full`\n",
    "- s, --score：是否在训练模型后直接进行推理评估，0表示不计算，非0表示计算。默认`0`\n",
    "- gpu：指定使用的GPU编号，默认为0，如无GPU则使用CPU。默认`0`\n",
    "- n_test：进行推理的翼型数量，将从给定数据集中随机抽取。默认`3`个"
   ]
  },
  {
   "cell_type": "code",
   "execution_count": null,
   "metadata": {},
   "outputs": [],
   "source": [
    "!python main.py --model Transolver -t full --data_path./dataset/Dataset --score0 "
   ]
  },
  {
   "cell_type": "markdown",
   "metadata": {},
   "source": [
    "### 4.2 多卡训练\n",
    "运行`mpirun -np <num_GPUs> --allow-run-as-root python main.py`进行训练\n",
    "\n",
    "主要参数介绍，其他参数参见单卡介绍：\n",
    "- num_GPUs：卡的数量"
   ]
  },
  {
   "cell_type": "code",
   "execution_count": null,
   "metadata": {},
   "outputs": [],
   "source": [
    "!mpirun -np 4 --allow-run-as-root python main.py"
   ]
  },
  {
   "cell_type": "markdown",
   "metadata": {},
   "source": [
    "### 4.3 跨节点多卡训练\n",
    "\n",
    "torchrun启动多节点多卡训练：`torchrun --standalone --nnodes=<num_nodes> --nproc_per_node=<num_GPUs> main.py`\n",
    "主要参数介绍，其他详细可参考torchrun参数：\n",
    "- num_nodes： 节点数量\n",
    "- num_GPUs：卡的数量"
   ]
  },
  {
   "cell_type": "code",
   "execution_count": null,
   "metadata": {},
   "outputs": [],
   "source": [
    "!torchrun --standalone --nnodes=1 --nproc_per_node=4 main.py"
   ]
  },
  {
   "cell_type": "markdown",
   "metadata": {},
   "source": [
    "## 5 推理"
   ]
  },
  {
   "cell_type": "markdown",
   "metadata": {},
   "source": [
    "### 5.1 推理\n",
    "运行`python main_evaluation.py`进行推理，参数同训练的参数一致"
   ]
  },
  {
   "cell_type": "code",
   "execution_count": null,
   "metadata": {},
   "outputs": [],
   "source": [
    "!python main_evaluation.py "
   ]
  }
 ],
 "metadata": {
  "kernelspec": {
   "display_name": "Python 3 (ipykernel)",
   "language": "python",
   "name": "python3"
  },
  "language_info": {
   "codemirror_mode": {
    "name": "ipython",
    "version": 3
   },
   "file_extension": ".py",
   "mimetype": "text/x-python",
   "name": "python",
   "nbconvert_exporter": "python",
   "pygments_lexer": "ipython3",
   "version": "3.10.16"
  }
 },
 "nbformat": 4,
 "nbformat_minor": 4
}
